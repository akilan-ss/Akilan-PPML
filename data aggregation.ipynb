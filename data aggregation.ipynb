{
 "cells": [
  {
   "cell_type": "code",
   "execution_count": 35,
   "id": "1c4cd1ec",
   "metadata": {},
   "outputs": [
    {
     "name": "stdout",
     "output_type": "stream",
     "text": [
      "       A      B  C  D  E\n",
      "0    Sai    one  0  2  2\n",
      "1   Subu    two  4  0  1\n",
      "2  Divya  three  4  1  0\n",
      "3   Yuvi    one  3  4  2\n",
      "4  Rithi  three  3  3  2\n",
      "5  Sangu    two  1  3  0\n"
     ]
    }
   ],
   "source": [
    "import pandas as pd\n",
    "import numpy as np\n",
    "df=pd.DataFrame({'A':['Sai',\"Subu\",\"Divya\",\"Yuvi\",\"Rithi\",\"Sangu\"],'B':['one','two','three','one','three','two'],'C':np.random.randint(5,size=6),'D':np.random.randint(5,size=6),'E':np.random.randint(3,size=6)})\n",
    "print(df)"
   ]
  },
  {
   "cell_type": "code",
   "execution_count": 37,
   "id": "7867c77e",
   "metadata": {},
   "outputs": [
    {
     "name": "stdout",
     "output_type": "stream",
     "text": [
      "       A      B  C  D\n",
      "0    Sai    one  3  0\n",
      "1    Poo    two  2  3\n",
      "2    Sub  three  3  0\n",
      "3   Yuvi    one  2  3\n",
      "4  Rithi  three  1  4\n",
      "5  Sangu    two  2  1\n",
      "6    Sai    one  2  0\n",
      "7    Poo    two  1  4\n",
      "       A  C\n",
      "0    Poo  3\n",
      "1  Rithi  1\n",
      "2    Sai  5\n",
      "3  Sangu  2\n",
      "4    Sub  3\n",
      "5   Yuvi  2\n"
     ]
    }
   ],
   "source": [
    "#Group by multi-column\n",
    "import pandas as pd\n",
    "import numpy as np\n",
    "df=pd.DataFrame({'A':['Sai','Poo','Sub','Yuvi','Rithi','Sangu','Sai','Poo'],'B':['one','two','three','one','three','two','one','two'],'C':np.random.randint(5,size=8),'D':np.random.randint(5,size=8)})\n",
    "print(df)\n",
    "df1=df.groupby('A',as_index=False)['C'].sum()\n",
    "print(df1)"
   ]
  },
  {
   "cell_type": "code",
   "execution_count": 39,
   "id": "5d0da487",
   "metadata": {},
   "outputs": [
    {
     "name": "stdout",
     "output_type": "stream",
     "text": [
      "       A      B  C  D\n",
      "0    Poo    two  3  7\n",
      "1  Rithi  three  1  4\n",
      "2    Sai    one  5  0\n",
      "3  Sangu    two  2  1\n",
      "4    Sub  three  3  0\n",
      "5   Yuvi    one  2  3\n"
     ]
    }
   ],
   "source": [
    "df2=df.groupby(['A','B'],as_index=False)[['C','D']].sum()\n",
    "print(df2)"
   ]
  },
  {
   "cell_type": "code",
   "execution_count": 41,
   "id": "25cb92f4-18e5-4b75-9f3b-b3467b749536",
   "metadata": {},
   "outputs": [
    {
     "name": "stdout",
     "output_type": "stream",
     "text": [
      "\n",
      " Original DataFrame:\n",
      "   Category  Sales  Profit\n",
      "0        A    100      10\n",
      "1        B    200      15\n",
      "2        C    150      20\n",
      "3        A    150      25\n",
      "4        B    130      30\n",
      "5        C    200      15\n"
     ]
    }
   ],
   "source": [
    "#using groupby() with agg()\n",
    "import pandas as pd\n",
    "df=pd.DataFrame({'Category':['A','B','C','A','B','C'],\n",
    "                    'Sales':[100,200,150,150,130,200],\n",
    "                    'Profit':[10,15,20,25,30,15]})\n",
    "print(\"\\n Original DataFrame:\\n\",df)"
   ]
  },
  {
   "cell_type": "code",
   "execution_count": 43,
   "id": "d1c79488-1922-4516-b7c3-777ee1eaa84f",
   "metadata": {},
   "outputs": [
    {
     "name": "stdout",
     "output_type": "stream",
     "text": [
      "         Sales        Profit    \n",
      "           sum   mean    sum max\n",
      "Category                        \n",
      "A          250  125.0     35  25\n",
      "B          330  165.0     45  30\n",
      "C          350  175.0     35  20\n"
     ]
    }
   ],
   "source": [
    "df_grouped=df.groupby('Category').agg({'Sales':['sum','mean'],'Profit':['sum','max']})\n",
    "print(df_grouped)"
   ]
  }
 ],
 "metadata": {
  "kernelspec": {
   "display_name": "Python [conda env:base] *",
   "language": "python",
   "name": "conda-base-py"
  },
  "language_info": {
   "codemirror_mode": {
    "name": "ipython",
    "version": 3
   },
   "file_extension": ".py",
   "mimetype": "text/x-python",
   "name": "python",
   "nbconvert_exporter": "python",
   "pygments_lexer": "ipython3",
   "version": "3.12.7"
  }
 },
 "nbformat": 4,
 "nbformat_minor": 5
}
