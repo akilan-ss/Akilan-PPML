{
 "cells": [
  {
   "cell_type": "code",
   "execution_count": 6,
   "id": "2c7cfe84",
   "metadata": {},
   "outputs": [
    {
     "name": "stdout",
     "output_type": "stream",
     "text": [
      "       a  b  c\n",
      "one    1  2  3\n",
      "two    4  5  6\n",
      "three  7  8  9\n"
     ]
    }
   ],
   "source": [
    "import  pandas as pd\n",
    "df=pd.DataFrame([[1,2,3],[4,5,6],[7,8,9]],index=['one','two','three'],columns=['a','b','c'])\n",
    "print(df)\n"
   ]
  },
  {
   "cell_type": "code",
   "execution_count": 10,
   "id": "fe770a77",
   "metadata": {},
   "outputs": [],
   "source": [
    "df.to_excel(r\"C:\\Users\\REC\\Desktop\\akilan.xlsx\")\n",
    "df.to_excel(r\"C:\\Users\\REC\\Desktop\\abinith.xlsx\")"
   ]
  },
  {
   "cell_type": "code",
   "execution_count": 11,
   "id": "8e600bef",
   "metadata": {},
   "outputs": [],
   "source": [
    "import pandas as pd\n",
    "df=pd.DataFrame([[10,20,30],[40,50,60],[70,80,90]],index=['four','five','six'],columns=['x','y','z'])\n",
    "df.to_excel(r\"C:\\Users\\rec\\Desktop\\akilan.xlsx\",sheet_name=\"Marks\")"
   ]
  },
  {
   "cell_type": "code",
   "execution_count": 12,
   "id": "f060a8e4",
   "metadata": {},
   "outputs": [],
   "source": [
    "import pandas as pd\n",
    "x=pd.read_excel(r\"C:\\Users\\REC\\Desktop\\akilan.xlsx\")\n",
    "y=pd.read_excel(r\"C:\\Users\\REC\\Desktop\\abinith.xlsx\")\n",
    "z=x.merge(y)\n",
    "z.to_excel(r\"C:\\Users\\REC\\Desktop\\combine.xlsx\")"
   ]
  },
  {
   "cell_type": "code",
   "execution_count": 16,
   "id": "a0cb92b7",
   "metadata": {},
   "outputs": [
    {
     "name": "stdout",
     "output_type": "stream",
     "text": [
      "  Unnamed: 0   x   y   z\n",
      "0       four  10  20  30\n",
      "0       four  10  20  30\n",
      "1       five  40  50  60\n",
      "1       five  40  50  60\n",
      "2        six  70  80  90\n",
      "2        six  70  80  90\n",
      "   Unnamed: 0.1 Unnamed: 0   x   y   z\n",
      "0             0       four  10  20  30\n",
      "1             0       four  10  20  30\n",
      "2             1       five  40  50  60\n",
      "3             1       five  40  50  60\n",
      "4             2        six  70  80  90\n",
      "5             2        six  70  80  90\n",
      "['Unnamed: 0.1', 'Unnamed: 0', 'x', 'y', 'z']\n",
      "6\n"
     ]
    }
   ],
   "source": [
    "z=pd.concat([x,y])\n",
    "z.to_excel(\"E:\\ss.xlsx\")\n",
    "df=z.sort_values([\"x\"])\n",
    "print(df)\n",
    "df.to_excel(\"E:\\ss.xlsx\")\n",
    "df=pd.read_excel(\"E:\\ss.xlsx\")\n",
    "print(df)\n",
    "print(list(df))\n",
    "print(format(len(df)))"
   ]
  },
  {
   "cell_type": "code",
   "execution_count": null,
   "id": "228f5e48",
   "metadata": {},
   "outputs": [],
   "source": []
  }
 ],
 "metadata": {
  "kernelspec": {
   "display_name": "Python 3 (ipykernel)",
   "language": "python",
   "name": "python3"
  },
  "language_info": {
   "codemirror_mode": {
    "name": "ipython",
    "version": 3
   },
   "file_extension": ".py",
   "mimetype": "text/x-python",
   "name": "python",
   "nbconvert_exporter": "python",
   "pygments_lexer": "ipython3",
   "version": "3.10.9"
  }
 },
 "nbformat": 4,
 "nbformat_minor": 5
}
