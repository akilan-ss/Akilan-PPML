{
 "cells": [
  {
   "cell_type": "code",
   "execution_count": 2,
   "id": "eef75d49",
   "metadata": {
    "scrolled": true
   },
   "outputs": [
    {
     "name": "stdout",
     "output_type": "stream",
     "text": [
      "One dimensional array: [10 20 30 40 50]\n"
     ]
    }
   ],
   "source": [
    "import numpy as np\n",
    "a=np.array([10,20,30,40,50])\n",
    "print(\"One dimensional array:\",a)"
   ]
  },
  {
   "cell_type": "code",
   "execution_count": 4,
   "id": "802011a7",
   "metadata": {},
   "outputs": [
    {
     "name": "stdout",
     "output_type": "stream",
     "text": [
      "Two dimensional array: [[ 10  20  30  40  50]\n",
      " [ 60  70  80  90 100]]\n"
     ]
    }
   ],
   "source": [
    "import numpy as np\n",
    "b=np.array([[10,20,30,40,50],[60,70,80,90,100]])\n",
    "print(\"Two dimensional array:\",b)"
   ]
  },
  {
   "cell_type": "code",
   "execution_count": 5,
   "id": "71ab90aa",
   "metadata": {},
   "outputs": [
    {
     "name": "stdout",
     "output_type": "stream",
     "text": [
      "\n",
      " Array with all zeros:\n",
      " [[0. 0. 0. 0. 0.]\n",
      " [0. 0. 0. 0. 0.]\n",
      " [0. 0. 0. 0. 0.]]\n"
     ]
    }
   ],
   "source": [
    "import numpy as np\n",
    "c=np.zeros((3,5))\n",
    "print(\"\\n Array with all zeros:\\n\",c)"
   ]
  },
  {
   "cell_type": "code",
   "execution_count": 6,
   "id": "1fae71c8",
   "metadata": {},
   "outputs": [
    {
     "name": "stdout",
     "output_type": "stream",
     "text": [
      "\n",
      " Random value:\n",
      " [[0.35507195 0.81209456 0.8294121 ]\n",
      " [0.77540669 0.63444027 0.34330152]\n",
      " [0.32895178 0.86875831 0.01788786]]\n"
     ]
    }
   ],
   "source": [
    "import numpy as np\n",
    "d=np.random.random((3,3))\n",
    "print(\"\\n Random value:\\n\",d)"
   ]
  },
  {
   "cell_type": "code",
   "execution_count": 8,
   "id": "ad5c4df2",
   "metadata": {},
   "outputs": [
    {
     "name": "stdout",
     "output_type": "stream",
     "text": [
      "\n",
      " Range value:\n",
      " [ 0  5 10 15 20 25 30 35 40 45 50 55 60 65 70 75 80 85 90 95]\n"
     ]
    }
   ],
   "source": [
    "import numpy  as np\n",
    "e=np.arange(0,100,5)\n",
    "print(\"\\n Range value:\\n\",e)"
   ]
  },
  {
   "cell_type": "code",
   "execution_count": 9,
   "id": "c2f0f52e",
   "metadata": {},
   "outputs": [
    {
     "name": "stdout",
     "output_type": "stream",
     "text": [
      "\n",
      " Original array:\n",
      " [[ 1  2  3  4]\n",
      " [ 5  6  7  8]\n",
      " [ 9 10 11 12]]\n",
      "\n",
      " Reshaped array [4,3]:\n",
      " [[ 1  2  3]\n",
      " [ 4  5  6]\n",
      " [ 7  8  9]\n",
      " [10 11 12]]\n"
     ]
    }
   ],
   "source": [
    "arr=np.array([[1,2,3,4],[5,6,7,8],[9,10,11,12]])\n",
    "newarr=arr.reshape((4,3))\n",
    "print(\"\\n Original array:\\n\",arr)\n",
    "print(\"\\n Reshaped array [4,3]:\\n\", newarr)"
   ]
  },
  {
   "cell_type": "code",
   "execution_count": 2,
   "id": "4287ab40",
   "metadata": {},
   "outputs": [
    {
     "name": "stdout",
     "output_type": "stream",
     "text": [
      "\n",
      " Array with all zeros\n",
      " [[0. 0. 0.]\n",
      " [0. 0. 0.]\n",
      " [0. 0. 0.]\n",
      " [0. 0. 0.]\n",
      " [0. 0. 0.]]\n",
      "\n",
      " Array with random values/n [[5.06413568e-01 8.23798998e-01 3.81504661e-01]\n",
      " [5.60748667e-04 9.23313449e-01 7.96410426e-01]\n",
      " [8.43010971e-01 6.00633537e-02 2.97193028e-01]\n",
      " [6.16734358e-02 6.23560050e-01 6.35022809e-01]\n",
      " [6.64059188e-01 4.73052420e-01 8.68292112e-02]]\n",
      "\n",
      " No of dimensions: 2\n",
      "\n",
      " Array element type: float64\n",
      "\n",
      " Strip size array \n",
      " [  0   5  10  15  20  25  30  35  40  45  50  55  60  65  70  75  80  85\n",
      "  90  95 100]\n",
      "\n",
      " Reshaped array\n",
      " [[ 1  2  3  5  6]\n",
      " [ 7  9 10 11 13]\n",
      " [14 15 17 18 19]]\n"
     ]
    }
   ],
   "source": [
    "#program 7.1\n",
    "import numpy as np\n",
    "c=np.zeros((5,3))\n",
    "print(\"\\n Array with all zeros\\n\",c)\n",
    "\n",
    "#program 7.2\n",
    "import numpy as rnp\n",
    "r=rnp.random.random((5,3))\n",
    "print(\"\\n Array with random values/n\",r)\n",
    "print(\"\\n No of dimensions:\",r.ndim)\n",
    "print(\"\\n Array element type:\",r.dtype)\n",
    "\n",
    "#program7.3\n",
    "import numpy as snp\n",
    "s=snp.arange(0,105,5)\n",
    "print(\"\\n Strip size array \\n\",s)\n",
    "\n",
    "#program7.4\n",
    "arr=rnp.array([[1,2,3],[5,6,7],[9,10,11],[13,14,15],[17,18,19]])\n",
    "newarr=arr.reshape(3,5)\n",
    "print(\"\\n Reshaped array\\n\",newarr)"
   ]
  },
  {
   "cell_type": "markdown",
   "id": "fea290e8",
   "metadata": {},
   "source": [
    "#program8\n",
    "arr=np.array([[1,2,3],[4,5,6],[7,8,9]])\n",
    "flat=arr.flatten()\n",
    "print(\"Flattened array;\\n\",flat)"
   ]
  },
  {
   "cell_type": "code",
   "execution_count": 20,
   "id": "895a899d",
   "metadata": {},
   "outputs": [
    {
     "name": "stdout",
     "output_type": "stream",
     "text": [
      "\n",
      " No. of dimensions: 2\n"
     ]
    }
   ],
   "source": [
    "arr=np.array([[1,2,3],[4,5,6],[7,8,9]])\n",
    "print(\"\\n No. of dimensions:\",arr.ndim)"
   ]
  },
  {
   "cell_type": "code",
   "execution_count": 9,
   "id": "435ed0c2",
   "metadata": {},
   "outputs": [
    {
     "name": "stdout",
     "output_type": "stream",
     "text": [
      "\n",
      " convert array element :\n",
      " [[1. 2. 3.]\n",
      " [1. 2. 3.]]\n",
      "convert array : float32\n",
      "\n",
      " size of array: 6\n"
     ]
    }
   ],
   "source": [
    "import numpy as a\n",
    "arr=a.array([[1,2,3],[1,2,3]])\n",
    "newtype=arr.astype(\"f\")\n",
    "print(\"\\n convert array element :\\n\",newtype)\n",
    "print(\"convert array :\",newtype.dtype)\n",
    "size=len(arr)\n",
    "print(\"\\n size of array:\",arr.size)"
   ]
  },
  {
   "cell_type": "code",
   "execution_count": null,
   "id": "66adfc6b",
   "metadata": {},
   "outputs": [],
   "source": []
  }
 ],
 "metadata": {
  "kernelspec": {
   "display_name": "Python 3 (ipykernel)",
   "language": "python",
   "name": "python3"
  },
  "language_info": {
   "codemirror_mode": {
    "name": "ipython",
    "version": 3
   },
   "file_extension": ".py",
   "mimetype": "text/x-python",
   "name": "python",
   "nbconvert_exporter": "python",
   "pygments_lexer": "ipython3",
   "version": "3.10.9"
  }
 },
 "nbformat": 4,
 "nbformat_minor": 5
}
