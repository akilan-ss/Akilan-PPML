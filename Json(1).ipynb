{
 "cells": [
  {
   "cell_type": "code",
   "execution_count": 23,
   "id": "0d2672db",
   "metadata": {},
   "outputs": [],
   "source": [
    "f=open(\"E:/akilanhi.txt\",\"w\")\n",
    "f.write(\"yennaka redcard uh\\n\")\n",
    "f.write(\"yeduthu paar record uh\\n\")\n",
    "f.close()"
   ]
  },
  {
   "cell_type": "code",
   "execution_count": 24,
   "id": "fdb75ac4",
   "metadata": {},
   "outputs": [
    {
     "name": "stdout",
     "output_type": "stream",
     "text": [
      "yennaka redcard uh\n",
      "\n",
      "yeduthu paar record uh\n",
      "\n",
      "\n"
     ]
    }
   ],
   "source": [
    "a=open(\"E:/akilanhi.txt\",\"r\")\n",
    "print(a.readline())\n",
    "print(a.readline())\n",
    "print(a.readline())\n",
    "a.close()\n"
   ]
  },
  {
   "cell_type": "code",
   "execution_count": 30,
   "id": "02633026",
   "metadata": {},
   "outputs": [
    {
     "name": "stdout",
     "output_type": "stream",
     "text": [
      "yennaka redcard uh\n",
      "yeduthu paar record uh\n",
      "naan thani aal illa da naan thani aal illa da naan thani aal illa da naan thani aal illa da !naan thani aal illa da\n",
      " naan thani aal illa da \n",
      "naan thani aal illa da \n",
      "naan thani aal illa da !\n",
      "naan thani aal illa da\n",
      " naan thani aal illa da \n",
      "naan thani aal illa da \n",
      "naan thani aal illa da !\n",
      "naan thani aal illa da \n",
      " naan thani aal illa da \n",
      "naan thani aal illa da \n",
      "naan thani aal illa da !\n",
      "naan thani aal illa da \n",
      "naan thani aal illa da \n",
      "naan thani aal illa da \n",
      "naan thani aal illa da !\n",
      "\n"
     ]
    }
   ],
   "source": [
    "b=open(\"E:/akilanhi.txt\",\"a\")\n",
    "b.write(\"naan thani aal illa da \\n\")\n",
    "b.write(\"naan thani aal illa da \\n\")\n",
    "b.write(\"naan thani aal illa da \\n\")\n",
    "b.write(\"naan thani aal illa da !\\n\")\n",
    "b.close()\n",
    "c=open(\"E:/akilanhi.txt\",\"r\")\n",
    "print(c.read())\n",
    "c.close()"
   ]
  },
  {
   "cell_type": "code",
   "execution_count": 32,
   "id": "4a4daf89",
   "metadata": {},
   "outputs": [
    {
     "name": "stdout",
     "output_type": "stream",
     "text": [
      "['yennaka redcard uh\\n', 'yeduthu paar record uh\\n', 'naan thani aal illa da naan thani aal illa da naan thani aal illa da naan thani aal illa da !naan thani aal illa da\\n', ' naan thani aal illa da \\n', 'naan thani aal illa da \\n', 'naan thani aal illa da !\\n', 'naan thani aal illa da\\n', ' naan thani aal illa da \\n', 'naan thani aal illa da \\n', 'naan thani aal illa da !\\n', 'naan thani aal illa da \\n', ' naan thani aal illa da \\n', 'naan thani aal illa da \\n', 'naan thani aal illa da !\\n', 'naan thani aal illa da \\n', 'naan thani aal illa da \\n', 'naan thani aal illa da \\n', 'naan thani aal illa da !\\n']\n"
     ]
    }
   ],
   "source": [
    "with open(\"E:/akilanhi.txt\",\"r\")as file:\n",
    "    lines=file.readlines()\n",
    "    print(lines)"
   ]
  },
  {
   "cell_type": "code",
   "execution_count": 36,
   "id": "6b964515",
   "metadata": {},
   "outputs": [
    {
     "name": "stdout",
     "output_type": "stream",
     "text": [
      "London\n"
     ]
    }
   ],
   "source": [
    "import json\n",
    "X='{\"name\":\"sai\",\"age\":20,\"city\":\"London\"}'\n",
    "y=json.loads(X)\n",
    "print(y[\"city\"])"
   ]
  },
  {
   "cell_type": "code",
   "execution_count": 41,
   "id": "1080882c",
   "metadata": {},
   "outputs": [
    {
     "name": "stdout",
     "output_type": "stream",
     "text": [
      "{\"name\": \"sai\", \"age\": 20, \"city\": \"london\"}\n"
     ]
    }
   ],
   "source": [
    "X={\"name\":\"sai\",\"age\":20,\"city\":\"london\"}\n",
    "y=json.dumps(X)\n",
    "print(y)"
   ]
  },
  {
   "cell_type": "code",
   "execution_count": null,
   "id": "ca1d8a81",
   "metadata": {},
   "outputs": [],
   "source": []
  }
 ],
 "metadata": {
  "kernelspec": {
   "display_name": "Python 3 (ipykernel)",
   "language": "python",
   "name": "python3"
  },
  "language_info": {
   "codemirror_mode": {
    "name": "ipython",
    "version": 3
   },
   "file_extension": ".py",
   "mimetype": "text/x-python",
   "name": "python",
   "nbconvert_exporter": "python",
   "pygments_lexer": "ipython3",
   "version": "3.10.9"
  }
 },
 "nbformat": 4,
 "nbformat_minor": 5
}
