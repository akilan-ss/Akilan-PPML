{
 "cells": [
  {
   "cell_type": "code",
   "execution_count": 2,
   "id": "1b8d27c9",
   "metadata": {},
   "outputs": [
    {
     "name": "stdout",
     "output_type": "stream",
     "text": [
      "        one       two     three\n",
      "a  0.416354  0.081998 -0.315202\n",
      "b       NaN       NaN       NaN\n",
      "c  1.214014 -0.408319 -0.527730\n",
      "d -0.508267  0.397448  0.337227\n",
      "e       NaN       NaN       NaN\n",
      "f -0.864677 -1.080251  0.442874\n"
     ]
    }
   ],
   "source": [
    "import pandas as pd\n",
    "import numpy as np\n",
    "df=pd.DataFrame(np.random.randn(4,3),index=['a','c','d','f'], columns=['one','two','three'])\n",
    "df1=df.reindex(['a','b','c','d','e','f'])\n",
    "print(df1)"
   ]
  },
  {
   "cell_type": "code",
   "execution_count": 3,
   "id": "013de721",
   "metadata": {},
   "outputs": [
    {
     "name": "stdout",
     "output_type": "stream",
     "text": [
      "        one       two     three\n",
      "a  0.416354  0.081998 -0.315202\n",
      "c  1.214014 -0.408319 -0.527730\n",
      "d -0.508267  0.397448  0.337227\n",
      "f -0.864677 -1.080251  0.442874\n"
     ]
    }
   ],
   "source": [
    "print(df1.dropna())"
   ]
  },
  {
   "cell_type": "code",
   "execution_count": 4,
   "id": "9f151de6",
   "metadata": {},
   "outputs": [
    {
     "name": "stdout",
     "output_type": "stream",
     "text": [
      "        one       two     three\n",
      "a  0.416354  0.081998 -0.315202\n",
      "b       NaN       NaN       NaN\n",
      "c  1.214014 -0.408319 -0.527730\n",
      "\n",
      "         one       two     three\n",
      "a  0.416354  0.081998 -0.315202\n",
      "b  0.000000  0.000000  0.000000\n",
      "c  1.214014 -0.408319 -0.527730\n"
     ]
    }
   ],
   "source": [
    "df2 = df.reindex(['a', 'b', 'c'])\n",
    "print(df2)\n",
    "print(\"\\n\", df2.fillna(0))\n"
   ]
  },
  {
   "cell_type": "code",
   "execution_count": 5,
   "id": "fdb88202",
   "metadata": {},
   "outputs": [
    {
     "name": "stdout",
     "output_type": "stream",
     "text": [
      "   one  two\n",
      "0   10   60\n",
      "1   20   70\n",
      "2   80   80\n",
      "3   40    0\n",
      "4   50   10\n",
      "   one  two\n",
      "0    5   60\n",
      "1   20   70\n",
      "2    3    3\n",
      "3   40    0\n",
      "4   50    5\n"
     ]
    }
   ],
   "source": [
    "df3 = pd.DataFrame({'one': [10, 20, 80, 40, 50], 'two': [60, 70, 80, 0, 10]})\n",
    "print(df3)\n",
    "print(df3.replace({10: 5, 80: 3}))"
   ]
  },
  {
   "cell_type": "code",
   "execution_count": 6,
   "id": "0fbe6683",
   "metadata": {},
   "outputs": [
    {
     "name": "stdout",
     "output_type": "stream",
     "text": [
      "Original dataframe:\n",
      "         one       two     three\n",
      "a -0.969737 -0.106511  0.345371\n",
      "b       NaN       NaN       NaN\n",
      "c -1.126470  0.209132  0.798843\n",
      "d  0.318457  0.072149  0.579783\n",
      "e       NaN       NaN       NaN\n",
      "f -0.792970 -0.285708 -0.343787\n",
      "\n",
      " NaN-with true fill:\n",
      "\n",
      "a    False\n",
      "b     True\n",
      "c    False\n",
      "d    False\n",
      "e     True\n",
      "f    False\n",
      "Name: one, dtype: bool\n"
     ]
    }
   ],
   "source": [
    "df=pd.DataFrame(np.random.randn(4,3),index=['a','c','d','f'], columns=['one','two','three'])\n",
    "df1=df.reindex(['a','b','c','d','e','f'])\n",
    "print(\"Original dataframe:\\n\",df1)\n",
    "print(\"\\n NaN-with true fill:\\n\")\n",
    "print(df1['one'].isnull())"
   ]
  },
  {
   "cell_type": "code",
   "execution_count": 7,
   "id": "5e164c0c",
   "metadata": {},
   "outputs": [
    {
     "name": "stdout",
     "output_type": "stream",
     "text": [
      "\n",
      " NaN-filled with background values:\n",
      "\n",
      "Forward filling\n",
      "         one       two     three\n",
      "a -0.969737 -0.106511  0.345371\n",
      "b -0.969737 -0.106511  0.345371\n",
      "c -1.126470  0.209132  0.798843\n",
      "d  0.318457  0.072149  0.579783\n",
      "e  0.318457  0.072149  0.579783\n",
      "f -0.792970 -0.285708 -0.343787\n",
      "Backward filling\n",
      "         one       two     three\n",
      "a -0.969737 -0.106511  0.345371\n",
      "b -1.126470  0.209132  0.798843\n",
      "c -1.126470  0.209132  0.798843\n",
      "d  0.318457  0.072149  0.579783\n",
      "e -0.792970 -0.285708 -0.343787\n",
      "f -0.792970 -0.285708 -0.343787\n"
     ]
    }
   ],
   "source": [
    "print(\"\\n NaN-filled with background values:\\n\")\n",
    "#forward filling\n",
    "print(\"Forward filling\\n\",df1.fillna(method='ffill'))\n",
    "#backward filling\n",
    "print(\"Backward filling\\n\",df1.fillna(method='bfill'))"
   ]
  },
  {
   "cell_type": "code",
   "execution_count": null,
   "id": "4b53582c",
   "metadata": {},
   "outputs": [],
   "source": []
  }
 ],
 "metadata": {
  "kernelspec": {
   "display_name": "Python 3 (ipykernel)",
   "language": "python",
   "name": "python3"
  },
  "language_info": {
   "codemirror_mode": {
    "name": "ipython",
    "version": 3
   },
   "file_extension": ".py",
   "mimetype": "text/x-python",
   "name": "python",
   "nbconvert_exporter": "python",
   "pygments_lexer": "ipython3",
   "version": "3.11.5"
  }
 },
 "nbformat": 4,
 "nbformat_minor": 5
}
