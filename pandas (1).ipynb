{
 "cells": [
  {
   "cell_type": "code",
   "execution_count": 3,
   "id": "e7d2147a",
   "metadata": {},
   "outputs": [
    {
     "name": "stdout",
     "output_type": "stream",
     "text": [
      "Empty DataFrame\n",
      "Columns: []\n",
      "Index: []\n"
     ]
    }
   ],
   "source": [
    "import pandas as pd\n",
    "df=pd.DataFrame()\n",
    "print(df)"
   ]
  },
  {
   "cell_type": "code",
   "execution_count": 20,
   "id": "30a3bf22",
   "metadata": {},
   "outputs": [
    {
     "name": "stdout",
     "output_type": "stream",
     "text": [
      "\n",
      " Series to Data Frame:\n",
      "\n",
      "         Emp  ID\n",
      "0   Dharshan  80\n",
      "1     Sudeep  90\n",
      "2       Siva  28\n",
      "3       Yash  56\n",
      "4  Keerthana  70\n",
      "\n",
      " Extracting one column:\n",
      "\n",
      "0     Dharshan\n",
      "1       Sudeep\n",
      "2         Siva\n",
      "3         Yash\n",
      "4    Keerthana\n",
      "Name: Emp, dtype: object\n",
      "\n",
      " Adding new Columns:\n",
      "\n",
      "         Emp  ID  Age\n",
      "0   Dharshan  80   28\n",
      "1     Sudeep  90   32\n",
      "2       Siva  28   47\n",
      "3       Yash  56   52\n",
      "4  Keerthana  70   61\n",
      "\n",
      " Deleting new column:\n",
      "\n",
      "         Emp  ID\n",
      "0   Dharshan  80\n",
      "1     Sudeep  90\n",
      "2       Siva  28\n",
      "3       Yash  56\n",
      "4  Keerthana  70\n",
      "\n",
      " Extracting the second row:\n",
      "\n",
      "Emp    Sudeep\n",
      "ID         90\n",
      "Name: 1, dtype: object\n",
      "slice rows:\n",
      "       Emp  ID\n",
      "1  Sudeep  90\n",
      "2    Siva  28\n",
      "3    Yash  56\n",
      "\n",
      " Adding new row values:\n",
      "          Emp    ID     EMP     Id\n",
      "0   Dharshan  80.0     NaN    NaN\n",
      "1     Sudeep  90.0     NaN    NaN\n",
      "2       Siva  28.0     NaN    NaN\n",
      "3       Yash  56.0     NaN    NaN\n",
      "4  Keerthana  70.0     NaN    NaN\n",
      "0        NaN   NaN   Vicky  100.0\n",
      "1        NaN   NaN  Rashid  110.0\n",
      "\n",
      " Deleting particular row:\n",
      "          Emp  ID\n",
      "0   Dharshan  80\n",
      "1     Sudeep  90\n",
      "3       Yash  56\n",
      "4  Keerthana  70\n"
     ]
    }
   ],
   "source": [
    "import pandas as pd\n",
    "emp = pd.Series(['Dharshan','Sudeep','Siva','Yash','Keerthana'])\n",
    "id=pd.Series([80,90,28,56,70])\n",
    "frame={'Emp':emp,'ID':id}\n",
    "result=pd.DataFrame(frame)\n",
    "print(\"\\n Series to Data Frame:\\n\")\n",
    "print(result)\n",
    "print(\"\\n Extracting one column:\\n\")\n",
    "print(result['Emp'])\n",
    "print(\"\\n Adding new Columns:\\n\")\n",
    "result[ 'ID']=pd.Series([80,90,28,56,70])\n",
    "result['Age']=pd.Series([28,32,47,52,61])\n",
    "print(result)\n",
    "print(\"\\n Deleting new column:\\n\")\n",
    "del result['Age']\n",
    "print(result)\n",
    "print(\"\\n Extracting the second row:\\n\")\n",
    "print(result.loc[1])\n",
    "print(\"slice rows:\\n\",result[1:4])\n",
    "d2=pd.DataFrame([['Vicky',100],['Rashid',110]],columns=['EMP','Id'])\n",
    "print(\"\\n Adding new row values:\\n\",pd.concat([result,d2]))\n",
    "print(\"\\n Deleting particular row:\\n\",result.drop(2))"
   ]
  },
  {
   "cell_type": "code",
   "execution_count": null,
   "id": "a4cc6f89",
   "metadata": {},
   "outputs": [],
   "source": []
  },
  {
   "cell_type": "code",
   "execution_count": null,
   "id": "a3c7818f",
   "metadata": {},
   "outputs": [],
   "source": []
  },
  {
   "cell_type": "code",
   "execution_count": null,
   "id": "2e291c04",
   "metadata": {},
   "outputs": [],
   "source": []
  }
 ],
 "metadata": {
  "kernelspec": {
   "display_name": "Python 3 (ipykernel)",
   "language": "python",
   "name": "python3"
  },
  "language_info": {
   "codemirror_mode": {
    "name": "ipython",
    "version": 3
   },
   "file_extension": ".py",
   "mimetype": "text/x-python",
   "name": "python",
   "nbconvert_exporter": "python",
   "pygments_lexer": "ipython3",
   "version": "3.11.5"
  }
 },
 "nbformat": 4,
 "nbformat_minor": 5
}
