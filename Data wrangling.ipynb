{
 "cells": [
  {
   "cell_type": "code",
   "execution_count": 1,
   "id": "d2f776a8",
   "metadata": {},
   "outputs": [
    {
     "name": "stdout",
     "output_type": "stream",
     "text": [
      "DF1:\n",
      "   name  age\n",
      "0  sai   20\n",
      "1  sub   21\n",
      "2  poo   22\n",
      "DF2:\n",
      "    qualified\n",
      "0       True\n",
      "1       True\n",
      "2      False\n",
      "Joining:\n",
      "   name  age  qualified\n",
      "0  sai   20       True\n",
      "1  sub   21       True\n",
      "2  poo   22      False\n"
     ]
    }
   ],
   "source": [
    "import pandas as pd\n",
    "d1={\n",
    "\"name\":[\"sai\",\"sub\",\"poo\"],\n",
    "\"age\":[20,21,22]\n",
    "}\n",
    "d2={\n",
    "\"qualified\":[True,True,False]\n",
    "}\n",
    "df1=pd.DataFrame(d1)\n",
    "print(\"DF1:\\n\",df1)\n",
    "df2=pd.DataFrame(d2)\n",
    "print(\"DF2:\\n\",df2)\n",
    "newdf=df1.join(df2)\n",
    "print(\"Joining:\\n\",newdf)"
   ]
  },
  {
   "cell_type": "code",
   "execution_count": 7,
   "id": "5ee4cc66",
   "metadata": {},
   "outputs": [
    {
     "name": "stdout",
     "output_type": "stream",
     "text": [
      "      name  age\n",
      "0     yuvi   15\n",
      "1  rithika   21\n",
      "2   sanjay   17\n",
      "  name  age\n",
      "0  sai   20\n",
      "1  sub   21\n",
      "2  poo   22\n",
      "  name_x  age   name_y\n",
      "0    sub   21  rithika\n"
     ]
    }
   ],
   "source": [
    "\n",
    "d1={\n",
    "\"name\":[\"yuvi\",\"rithika\",\"sanjay\"],\n",
    "\"age\":[15,21,17]\n",
    "}\n",
    "d2={\n",
    "\"name\":[\"sai\",\"sub\",\"poo\"],\n",
    "\"age\":[20,21,22]\n",
    "}\n",
    "df1=pd.DataFrame(d1)\n",
    "print(df1)\n",
    "df2=pd.DataFrame(d2)\n",
    "print(df2)\n",
    "\n",
    "newdf1=df2.merge(df1,on='age')\n",
    "print(newdf1)"
   ]
  },
  {
   "cell_type": "code",
   "execution_count": 12,
   "id": "f27af834",
   "metadata": {},
   "outputs": [
    {
     "name": "stdout",
     "output_type": "stream",
     "text": [
      "  team  points  assit  rebounds\n",
      "0    A      90     12        56\n",
      "1    B      56     34        43\n",
      "2    C      78     23        55\n",
      "3    D      88     44        12\n",
      "   team  variable  value\n",
      "0     A    points     90\n",
      "1     B    points     56\n",
      "2     C    points     78\n",
      "3     D    points     88\n",
      "4     A     assit     12\n",
      "5     B     assit     34\n",
      "6     C     assit     23\n",
      "7     D     assit     44\n",
      "8     A  rebounds     56\n",
      "9     B  rebounds     43\n",
      "10    C  rebounds     55\n",
      "11    D  rebounds     12\n"
     ]
    }
   ],
   "source": [
    "df=pd.DataFrame({'team':['A','B','C','D'],'points':[90,56,78,88],'assit':[12,34,23,44],'rebounds':[56,43,55,12]})\n",
    "print(df)\n",
    "df=pd.melt(df,id_vars='team',value_vars=['points','assit','rebounds'])\n",
    "print(df)"
   ]
  },
  {
   "cell_type": "code",
   "execution_count": null,
   "id": "66ada48e",
   "metadata": {},
   "outputs": [],
   "source": []
  }
 ],
 "metadata": {
  "kernelspec": {
   "display_name": "Python 3 (ipykernel)",
   "language": "python",
   "name": "python3"
  },
  "language_info": {
   "codemirror_mode": {
    "name": "ipython",
    "version": 3
   },
   "file_extension": ".py",
   "mimetype": "text/x-python",
   "name": "python",
   "nbconvert_exporter": "python",
   "pygments_lexer": "ipython3",
   "version": "3.10.9"
  }
 },
 "nbformat": 4,
 "nbformat_minor": 5
}
